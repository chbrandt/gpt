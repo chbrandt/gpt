{
 "cells": [
  {
   "cell_type": "code",
   "execution_count": 1,
   "metadata": {},
   "outputs": [],
   "source": [
    "import sys\n",
    "sys.path.append(\"../\")\n",
    "import gpt\n",
    "import logging as log\n",
    "log.getLogger().setLevel(log.INFO)"
   ]
  },
  {
   "cell_type": "code",
   "execution_count": 14,
   "metadata": {},
   "outputs": [
    {
     "name": "stderr",
     "output_type": "stream",
     "text": [
      "INFO: Failed to auto identify EPSG: 7\n",
      "INFO: Failed to auto identify EPSG: 7\n",
      "INFO: Failed to auto identify EPSG: 7\n",
      "INFO: Failed to auto identify EPSG: 7\n"
     ]
    }
   ],
   "source": [
    "file =\"/home/luca/Documenti/sezione_copernicus/tmp/PM-MOO-MS-Copernicus_matteo.gpkg\"\n",
    "file= \"/home/luca/Downloads/PM-MAR-MS-Arsinoes_01.gpkg\"\n",
    "gp = gpt.read_file(file)"
   ]
  },
  {
   "cell_type": "code",
   "execution_count": 15,
   "metadata": {},
   "outputs": [
    {
     "data": {
      "text/plain": [
       "['Structural features',\n",
       " 'Surface features',\n",
       " 'Units',\n",
       " 'Units_contacts',\n",
       " 'layer_styles']"
      ]
     },
     "execution_count": 15,
     "metadata": {},
     "output_type": "execute_result"
    }
   ],
   "source": [
    "gp.list()"
   ]
  },
  {
   "cell_type": "code",
   "execution_count": 21,
   "metadata": {},
   "outputs": [
    {
     "name": "stderr",
     "output_type": "stream",
     "text": [
      "INFO: layer Units not found. Nothing done\n",
      "INFO: layer Structural features not found. Nothing done\n"
     ]
    },
    {
     "name": "stdout",
     "output_type": "stream",
     "text": [
      "\n",
      "\n",
      "Surface features : ['Id', 'Unit', 'geometry']\n",
      "Units_contacts : ['Unit', 'Z_Min', 'Z_Max', 'Z_Mean', 'Length3D', 'Min_Slope', 'Max_Slope', 'Avg_Slope', 'Vertex_Cnt', 'geometry']\n",
      "geounits : ['Unit', 'Z_Min', 'Z_Max', 'Z_Mean', 'Length3D', 'Min_Slope', 'Max_Slope', 'Avg_Slope', 'Vertex_Cnt', 'geometry']\n",
      "layer_styles : ['f_table_catalog', 'f_table_schema', 'f_table_name', 'f_geometry_column', 'styleName', 'styleQML', 'styleSLD', 'useAsDefault', 'description', 'owner', 'ui', 'update_time', 'geometry']\n",
      "structural : ['Unit', 'Z_Min', 'Z_Max', 'Z_Mean', 'Length3D', 'Min_Slope', 'Max_Slope', 'Avg_Slope', 'Vertex_Cnt', 'Id', 'layer', 'path', 'Type', 'geometry']\n"
     ]
    }
   ],
   "source": [
    "layer_rename = {\"Units\": \"geounits\", \"Structural features\": \"structural\"}\n",
    "\n",
    "\n",
    "def rename_layers(gpk, rename_patterns):\n",
    "    for oldname, newname in rename_patterns.items():\n",
    "        # do rename and log it for future inspection\n",
    "        if oldname in gpk.list():\n",
    "            log.info(f\"renaming layer {oldname} to {newname}\")\n",
    "            gpk.rename_layer(oldname, newname)\n",
    "        else:\n",
    "            log.info(f\"layer {oldname} not found. Nothing done\")\n",
    "    \n",
    "rename_layers(gp, layer_rename)\n",
    "\n",
    "for l in gp.list():\n",
    "    table = gp[l]\n",
    "    print(f\"{l} : {list(table.columns)}\" )"
   ]
  },
  {
   "cell_type": "code",
   "execution_count": 22,
   "metadata": {},
   "outputs": [
    {
     "name": "stderr",
     "output_type": "stream",
     "text": [
      "INFO: renaming field Unit of layer Surface features to geo_type\n",
      "INFO: updating filter def Unit = 'Pitted area' to geo_type = 'Pitted area'\n",
      "INFO: updating filter def Unit = 'Pit chain' to geo_type = 'Pit chain'\n",
      "INFO: renaming field Unit of layer Units_contacts to geo_type\n",
      "INFO: updating filter def Unit = 'Chaotic Terrain - Knobby terrains'  to geo_type = 'Chaotic Terrain - Knobby terrains' \n",
      "INFO: updating filter def Unit = 'Cap Unit'  to geo_type = 'Cap Unit' \n",
      "INFO: updating filter def Unit = 'Chaotic Terrain - High Thermal Inertia'  to geo_type = 'Chaotic Terrain - High Thermal Inertia' \n",
      "INFO: updating filter def Unit = 'Light-toned Layered Unit'  to geo_type = 'Light-toned Layered Unit' \n",
      "INFO: renaming field Unit of layer geounits to geo_type\n",
      "INFO: updating filter def Unit = 'Post-collapse craters' to geo_type = 'Post-collapse craters'\n",
      "INFO: updating filter def Unit = 'Cap Unit' to geo_type = 'Cap Unit'\n",
      "INFO: updating filter def Unit = 'Light-toned Layered Unit' to geo_type = 'Light-toned Layered Unit'\n",
      "INFO: updating filter def Unit = 'Chaotic Terrain - High Thermal Inertia' to geo_type = 'Chaotic Terrain - High Thermal Inertia'\n",
      "INFO: updating filter def Unit = 'Chaotic Terrain - Knobby terrains' to geo_type = 'Chaotic Terrain - Knobby terrains'\n",
      "INFO: updating filter def Unit = 'Chaotic Terrain - Fractured plains' to geo_type = 'Chaotic Terrain - Fractured plains'\n",
      "INFO: Layer layer_styles match but field not present. Nothing to do\n",
      "INFO: renaming field Unit of layer structural to geo_type\n",
      "INFO: renaming field Z_Min of layer geounits to zmin\n"
     ]
    }
   ],
   "source": [
    "field_rename =  {\".*\": {\"Unit\": \"geo_type\"}, \"geounits\":{\"Z_Min\":\"zmin\"}} # {regex for layer_name (.* for all) : {from:to}}\n",
    "\n",
    "import re\n",
    "def rename_fields(gpk, rename_patterns):\n",
    "    layers =gpk.list()\n",
    "    for layer_matcher, pattern in rename_patterns.items():\n",
    "        for layer in layers:\n",
    "            if re.match(layer_matcher, layer):\n",
    "                # do the rename if the field exists\n",
    "                for fromname, toname in pattern.items():\n",
    "                    if fromname in list(gpk[layer].columns):\n",
    "                        log.info(f\"renaming field {fromname} of layer {layer} to {toname}\")\n",
    "                        gpk.rename_field(layer, fromname, toname)\n",
    "                    else:\n",
    "                        log.info(f\"Layer {layer} match but field not present. Nothing to do\")\n",
    "        \n",
    "        \n",
    "rename_fields(gp, field_rename)   "
   ]
  },
  {
   "cell_type": "code",
   "execution_count": 23,
   "metadata": {},
   "outputs": [
    {
     "name": "stdout",
     "output_type": "stream",
     "text": [
      "Surface features : ['Id', 'geo_type', 'geometry']\n",
      "Units_contacts : ['geo_type', 'Z_Min', 'Z_Max', 'Z_Mean', 'Length3D', 'Min_Slope', 'Max_Slope', 'Avg_Slope', 'Vertex_Cnt', 'geometry']\n",
      "geounits : ['geo_type', 'zmin', 'Z_Max', 'Z_Mean', 'Length3D', 'Min_Slope', 'Max_Slope', 'Avg_Slope', 'Vertex_Cnt', 'geometry']\n",
      "layer_styles : ['f_table_catalog', 'f_table_schema', 'f_table_name', 'f_geometry_column', 'styleName', 'styleQML', 'styleSLD', 'useAsDefault', 'description', 'owner', 'ui', 'update_time', 'geometry']\n",
      "structural : ['geo_type', 'Z_Min', 'Z_Max', 'Z_Mean', 'Length3D', 'Min_Slope', 'Max_Slope', 'Avg_Slope', 'Vertex_Cnt', 'Id', 'layer', 'path', 'Type', 'geometry']\n"
     ]
    }
   ],
   "source": [
    "for l in gp.list():\n",
    "    table = gp[l]\n",
    "    print(f\"{l} : {list(table.columns)}\" )\n",
    "\n"
   ]
  },
  {
   "cell_type": "code",
   "execution_count": null,
   "metadata": {},
   "outputs": [],
   "source": []
  }
 ],
 "metadata": {
  "jupytext": {
   "cell_metadata_filter": "all",
   "notebook_metadata_filter": "all,-language_info",
   "text_representation": {
    "extension": ".py",
    "format_name": "percent",
    "format_version": "1.3",
    "jupytext_version": "1.4.2"
   }
  },
  "kernelspec": {
   "display_name": "Python 3",
   "language": "python",
   "name": "python3"
  },
  "language_info": {
   "codemirror_mode": {
    "name": "ipython",
    "version": 3
   },
   "file_extension": ".py",
   "mimetype": "text/x-python",
   "name": "python",
   "nbconvert_exporter": "python",
   "pygments_lexer": "ipython3",
   "version": "3.8.2"
  }
 },
 "nbformat": 4,
 "nbformat_minor": 4
}
