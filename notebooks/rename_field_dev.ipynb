{
 "cells": [
  {
   "cell_type": "code",
   "execution_count": 84,
   "metadata": {},
   "outputs": [],
   "source": [
    "import sys\n",
    "sys.path.append(\"../\")\n",
    "import gpt"
   ]
  },
  {
   "cell_type": "code",
   "execution_count": 85,
   "metadata": {},
   "outputs": [],
   "source": [
    "file =\"/home/luca/Documenti/sezione_copernicus/tmp/PM-MOO-MS-Copernicus_matteo.gpkg\""
   ]
  },
  {
   "cell_type": "code",
   "execution_count": 86,
   "metadata": {},
   "outputs": [
    {
     "name": "stderr",
     "output_type": "stream",
     "text": [
      "INFO: Failed to auto identify EPSG: 7\n",
      "INFO: Failed to auto identify EPSG: 7\n",
      "INFO: Failed to auto identify EPSG: 7\n",
      "INFO: Failed to auto identify EPSG: 7\n"
     ]
    },
    {
     "data": {
      "text/plain": [
       "[' Contacts',\n",
       " ' Geological_Units',\n",
       " ' Linear_Features',\n",
       " ' Pyroclastic_Deposits',\n",
       " 'layer_styles']"
      ]
     },
     "execution_count": 86,
     "metadata": {},
     "output_type": "execute_result"
    }
   ],
   "source": [
    "gp = gpt.read_file(file)\n",
    "gp.list()"
   ]
  },
  {
   "cell_type": "code",
   "execution_count": null,
   "metadata": {},
   "outputs": [],
   "source": []
  },
  {
   "cell_type": "code",
   "execution_count": 87,
   "metadata": {},
   "outputs": [],
   "source": [
    "# we have loaded the data in memory.\n",
    "# now let say we want to change \" Geological_Units\" to \"geounits\"\n",
    "oldname = \" Geological_Units\"\n",
    "newname = \"geounits\"\n",
    "# we do the actual rename\n",
    "gp.rename_layer(oldname, newname)\n",
    "\n",
    "# we fix the table - using self so it can be plugged into the lib easily\n",
    "def fix_style_layer_name_changed(self:gpt.Geopkg, oldname, newname):\n",
    "    styles = self[\"layer_styles\"]\n",
    "    styles.loc[styles[\"f_table_name\"] == oldname, \"f_table_name\"] = newname\n",
    "    return styles # not really needed\n",
    "\n",
    "    \n",
    "styles = fix_style_layer_name_changed(gp, oldname, newname )"
   ]
  },
  {
   "cell_type": "code",
   "execution_count": null,
   "metadata": {},
   "outputs": [],
   "source": []
  },
  {
   "cell_type": "code",
   "execution_count": 88,
   "metadata": {},
   "outputs": [],
   "source": [
    "# now we want to change the name of a field:\n",
    "old_field_name = \"Type\"\n",
    "new_field_name = \"geo_type\"\n",
    "layer_name = \"geounits\"\n",
    "\n",
    "def ensure_just_one_default_style(style_table, layer_name):\n",
    "    \"\"\"perform some checks on the style table and clean if possible\"\"\"\n",
    "    ids = list(styles.loc[styles[\"f_table_name\"] == layer_name].index) # ids of the possible style for this layer\n",
    "    defaults = list(styles.loc[ ids, \"useAsDefault\"]) # the default flag for these rows\n",
    "    \n",
    "    if len(ids) == 0:\n",
    "        log.error(\"no style for this layer found\")\n",
    "        return\n",
    "    \n",
    "    if len(ids) == 1:\n",
    "        id = ids[0] # use that as style\n",
    "        \n",
    "    else: # we select the first style that is also set as default\n",
    "        try:\n",
    "            first_default  = defaults.index(True)\n",
    "            id = ids[first_default]\n",
    "        except: # no style set as default\n",
    "            log.warning(\"No styles with default flag. using as style the last inserted. may be a problem!\")\n",
    "            id = ids[-1] # chose the last inserted\n",
    "    \n",
    "    styles.loc[ids, \"useAsDefault\"] = False # clear default flags, just to be sure, we may actually want to delete those unused styles\n",
    "    styles.loc[id, \"useAsDefault\"] = True # now set the default style\n",
    "    \n",
    "\n",
    "def rename_field(self:gpt.Geopkg, layer_name, old_field_name, new_field_name):\n",
    "    # classical change\n",
    "    layer = self[layer_name]\n",
    "    layer.rename(columns={old_field_name:new_field_name}, inplace=True)\n",
    "    \n",
    "    # fix the style table\n",
    "    styles = self[\"layer_styles\"] # extract the style table - we should check whether it exists or not btw\n",
    "    \n",
    "    # these would not be needed actually, just an useful check\n",
    "    ensure_just_one_default_style(styles, layer_name)\n",
    "    \n",
    "    # now we want to alter the qml content for all the styles connected with this layers\n",
    "    ids = list(styles.loc[styles[\"f_table_name\"] == layer_name].index)\n",
    "    for id in ids:\n",
    "        qml = styles.loc[id, \"styleQML\"]\n",
    "\n",
    "        import xml.etree.ElementTree as ET\n",
    "        tree = ET.fromstring(qml)\n",
    "        renderer = tree.find(\"renderer-v2\")\n",
    "        \n",
    "        if renderer.attrib[\"attr\"] == old_field_name: # the field was used in this style\n",
    "            renderer.attrib[\"attr\"] = new_field_name\n",
    "            newstyle = str(ET.tostring(tree, encoding='unicode', method='xml'))\n",
    "            styles.loc[id,\"styleQML\"] = newstyle\n",
    "        else: # nothing to do - not affected\n",
    "            log.debug(\"the field were not used as filter for the style\")\n",
    "            return \n",
    "\n",
    "   \n",
    "    \n",
    "\n",
    "        # clear this because we cannot grant 1 to 1 with qml for now\n",
    "        styles.loc[id, \"styleSLD\"] = ' '\n",
    "        return \n",
    "    \n",
    "    \n",
    "\n",
    "rename_field(gp, layer_name, old_field_name, new_field_name)"
   ]
  },
  {
   "cell_type": "code",
   "execution_count": 89,
   "metadata": {},
   "outputs": [],
   "source": [
    "gp.to_gpkg(\"altered.gpkg\")"
   ]
  }
 ],
 "metadata": {
  "jupytext": {
   "cell_metadata_filter": "all",
   "notebook_metadata_filter": "all,-language_info",
   "text_representation": {
    "extension": ".py",
    "format_name": "percent",
    "format_version": "1.3",
    "jupytext_version": "1.4.2"
   }
  },
  "kernelspec": {
   "display_name": "Python 3",
   "language": "python",
   "name": "python3"
  },
  "language_info": {
   "codemirror_mode": {
    "name": "ipython",
    "version": 3
   },
   "file_extension": ".py",
   "mimetype": "text/x-python",
   "name": "python",
   "nbconvert_exporter": "python",
   "pygments_lexer": "ipython3",
   "version": "3.8.2"
  }
 },
 "nbformat": 4,
 "nbformat_minor": 4
}
